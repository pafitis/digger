{
 "cells": [
  {
   "cell_type": "code",
   "execution_count": 6,
   "metadata": {},
   "outputs": [],
   "source": [
    "import onnx, torch\n",
    "from onnx2pytorch import ConvertModel"
   ]
  },
  {
   "cell_type": "code",
   "execution_count": null,
   "metadata": {},
   "outputs": [],
   "source": [
    "effnet_model = onnx.load(\"model/discogs-effnet-bsdynamic-1.onnx\")\n",
    "effnet_model = ConvertModel(effnet_model)"
   ]
  },
  {
   "cell_type": "code",
   "execution_count": null,
   "metadata": {},
   "outputs": [
    {
     "name": "stderr",
     "output_type": "stream",
     "text": [
      "c:\\Users\\pafitis\\envs\\dev\\Lib\\site-packages\\onnx2pytorch\\convert\\layer.py:30: UserWarning: The given NumPy array is not writable, and PyTorch does not support non-writable tensors. This means writing to this tensor will result in undefined behavior. You may want to copy the array to protect its data or make it writable before converting it to a tensor. This type of warning will be suppressed for the rest of this program. (Triggered internally at C:\\actions-runner\\_work\\pytorch\\pytorch\\builder\\windows\\pytorch\\torch\\csrc\\utils\\tensor_numpy.cpp:212.)\n",
      "  layer.weight.data = torch.from_numpy(numpy_helper.to_array(weight))\n"
     ]
    }
   ],
   "source": []
  },
  {
   "cell_type": "code",
   "execution_count": 12,
   "metadata": {},
   "outputs": [],
   "source": [
    "torch.save(pytorch_model,\"model/discogs-effnet-bsdynamic-1.pt\")"
   ]
  },
  {
   "cell_type": "code",
   "execution_count": 4,
   "metadata": {},
   "outputs": [
    {
     "name": "stderr",
     "output_type": "stream",
     "text": [
      "C:\\Users\\pafitis\\AppData\\Local\\Temp\\ipykernel_20416\\1987439094.py:2: FutureWarning: You are using `torch.load` with `weights_only=False` (the current default value), which uses the default pickle module implicitly. It is possible to construct malicious pickle data which will execute arbitrary code during unpickling (See https://github.com/pytorch/pytorch/blob/main/SECURITY.md#untrusted-models for more details). In a future release, the default value for `weights_only` will be flipped to `True`. This limits the functions that could be executed during unpickling. Arbitrary objects will no longer be allowed to be loaded via this mode unless they are explicitly allowlisted by the user via `torch.serialization.add_safe_globals`. We recommend you start setting `weights_only=True` for any use case where you don't have full control of the loaded file. Please open an issue on GitHub for any issues related to this experimental feature.\n",
      "  model = torch.load('model/discogs-effnet-bsdynamic-1.pt')\n"
     ]
    }
   ],
   "source": [
    "import torch\n",
    "model = torch.load('model/discogs-effnet-bsdynamic-1.pt')"
   ]
  },
  {
   "cell_type": "code",
   "execution_count": 5,
   "metadata": {},
   "outputs": [
    {
     "data": {
      "text/plain": [
       "ConvertModel(\n",
       "  (Unsqueeze_361): Unsqueeze()\n",
       "  (Conv_651): Conv2d(1, 32, kernel_size=(3, 3), stride=(2, 2), padding=(1, 1))\n",
       "  (Sigmoid_364): Sigmoid()\n",
       "  (Mul_365): OperatorWrapper()\n",
       "  (Conv_654): Conv2d(32, 32, kernel_size=(3, 3), stride=(1, 1), padding=(1, 1), groups=32)\n",
       "  (Sigmoid_368): Sigmoid()\n",
       "  (Mul_369): OperatorWrapper()\n",
       "  (GlobalAveragePool_370): GlobalAveragePool()\n",
       "  (Conv_371): Conv2d(32, 8, kernel_size=(1, 1), stride=(1, 1))\n",
       "  (Sigmoid_372): Sigmoid()\n",
       "  (Mul_373): OperatorWrapper()\n",
       "  (Conv_374): Conv2d(8, 32, kernel_size=(1, 1), stride=(1, 1))\n",
       "  (Sigmoid_375): Sigmoid()\n",
       "  (Mul_376): OperatorWrapper()\n",
       "  (Conv_657): Conv2d(32, 16, kernel_size=(1, 1), stride=(1, 1))\n",
       "  (Conv_660): Conv2d(16, 96, kernel_size=(1, 1), stride=(1, 1))\n",
       "  (Sigmoid_381): Sigmoid()\n",
       "  (Mul_382): OperatorWrapper()\n",
       "  (Conv_663): Conv2d(96, 96, kernel_size=(3, 3), stride=(2, 2), padding=(1, 1), groups=96)\n",
       "  (Sigmoid_385): Sigmoid()\n",
       "  (Mul_386): OperatorWrapper()\n",
       "  (GlobalAveragePool_387): GlobalAveragePool()\n",
       "  (Conv_388): Conv2d(96, 4, kernel_size=(1, 1), stride=(1, 1))\n",
       "  (Sigmoid_389): Sigmoid()\n",
       "  (Mul_390): OperatorWrapper()\n",
       "  (Conv_391): Conv2d(4, 96, kernel_size=(1, 1), stride=(1, 1))\n",
       "  (Sigmoid_392): Sigmoid()\n",
       "  (Mul_393): OperatorWrapper()\n",
       "  (Conv_666): Conv2d(96, 24, kernel_size=(1, 1), stride=(1, 1))\n",
       "  (Conv_669): Conv2d(24, 144, kernel_size=(1, 1), stride=(1, 1))\n",
       "  (Sigmoid_398): Sigmoid()\n",
       "  (Mul_399): OperatorWrapper()\n",
       "  (Conv_672): Conv2d(144, 144, kernel_size=(3, 3), stride=(1, 1), padding=(1, 1), groups=144)\n",
       "  (Sigmoid_402): Sigmoid()\n",
       "  (Mul_403): OperatorWrapper()\n",
       "  (GlobalAveragePool_404): GlobalAveragePool()\n",
       "  (Conv_405): Conv2d(144, 6, kernel_size=(1, 1), stride=(1, 1))\n",
       "  (Sigmoid_406): Sigmoid()\n",
       "  (Mul_407): OperatorWrapper()\n",
       "  (Conv_408): Conv2d(6, 144, kernel_size=(1, 1), stride=(1, 1))\n",
       "  (Sigmoid_409): Sigmoid()\n",
       "  (Mul_410): OperatorWrapper()\n",
       "  (Conv_675): Conv2d(144, 24, kernel_size=(1, 1), stride=(1, 1))\n",
       "  (Add_413): Add()\n",
       "  (Conv_678): Conv2d(24, 144, kernel_size=(1, 1), stride=(1, 1))\n",
       "  (Sigmoid_416): Sigmoid()\n",
       "  (Mul_417): OperatorWrapper()\n",
       "  (Conv_681): Conv2d(144, 144, kernel_size=(5, 5), stride=(2, 2), padding=(2, 2), groups=144)\n",
       "  (Sigmoid_420): Sigmoid()\n",
       "  (Mul_421): OperatorWrapper()\n",
       "  (GlobalAveragePool_422): GlobalAveragePool()\n",
       "  (Conv_423): Conv2d(144, 6, kernel_size=(1, 1), stride=(1, 1))\n",
       "  (Sigmoid_424): Sigmoid()\n",
       "  (Mul_425): OperatorWrapper()\n",
       "  (Conv_426): Conv2d(6, 144, kernel_size=(1, 1), stride=(1, 1))\n",
       "  (Sigmoid_427): Sigmoid()\n",
       "  (Mul_428): OperatorWrapper()\n",
       "  (Conv_684): Conv2d(144, 40, kernel_size=(1, 1), stride=(1, 1))\n",
       "  (Conv_687): Conv2d(40, 240, kernel_size=(1, 1), stride=(1, 1))\n",
       "  (Sigmoid_433): Sigmoid()\n",
       "  (Mul_434): OperatorWrapper()\n",
       "  (Conv_690): Conv2d(240, 240, kernel_size=(5, 5), stride=(1, 1), padding=(2, 2), groups=240)\n",
       "  (Sigmoid_437): Sigmoid()\n",
       "  (Mul_438): OperatorWrapper()\n",
       "  (GlobalAveragePool_439): GlobalAveragePool()\n",
       "  (Conv_440): Conv2d(240, 10, kernel_size=(1, 1), stride=(1, 1))\n",
       "  (Sigmoid_441): Sigmoid()\n",
       "  (Mul_442): OperatorWrapper()\n",
       "  (Conv_443): Conv2d(10, 240, kernel_size=(1, 1), stride=(1, 1))\n",
       "  (Sigmoid_444): Sigmoid()\n",
       "  (Mul_445): OperatorWrapper()\n",
       "  (Conv_693): Conv2d(240, 40, kernel_size=(1, 1), stride=(1, 1))\n",
       "  (Add_448): Add()\n",
       "  (Conv_696): Conv2d(40, 240, kernel_size=(1, 1), stride=(1, 1))\n",
       "  (Sigmoid_451): Sigmoid()\n",
       "  (Mul_452): OperatorWrapper()\n",
       "  (Conv_699): Conv2d(240, 240, kernel_size=(3, 3), stride=(2, 2), padding=(1, 1), groups=240)\n",
       "  (Sigmoid_455): Sigmoid()\n",
       "  (Mul_456): OperatorWrapper()\n",
       "  (GlobalAveragePool_457): GlobalAveragePool()\n",
       "  (Conv_458): Conv2d(240, 10, kernel_size=(1, 1), stride=(1, 1))\n",
       "  (Sigmoid_459): Sigmoid()\n",
       "  (Mul_460): OperatorWrapper()\n",
       "  (Conv_461): Conv2d(10, 240, kernel_size=(1, 1), stride=(1, 1))\n",
       "  (Sigmoid_462): Sigmoid()\n",
       "  (Mul_463): OperatorWrapper()\n",
       "  (Conv_702): Conv2d(240, 80, kernel_size=(1, 1), stride=(1, 1))\n",
       "  (Conv_705): Conv2d(80, 480, kernel_size=(1, 1), stride=(1, 1))\n",
       "  (Sigmoid_468): Sigmoid()\n",
       "  (Mul_469): OperatorWrapper()\n",
       "  (Conv_708): Conv2d(480, 480, kernel_size=(3, 3), stride=(1, 1), padding=(1, 1), groups=480)\n",
       "  (Sigmoid_472): Sigmoid()\n",
       "  (Mul_473): OperatorWrapper()\n",
       "  (GlobalAveragePool_474): GlobalAveragePool()\n",
       "  (Conv_475): Conv2d(480, 20, kernel_size=(1, 1), stride=(1, 1))\n",
       "  (Sigmoid_476): Sigmoid()\n",
       "  (Mul_477): OperatorWrapper()\n",
       "  (Conv_478): Conv2d(20, 480, kernel_size=(1, 1), stride=(1, 1))\n",
       "  (Sigmoid_479): Sigmoid()\n",
       "  (Mul_480): OperatorWrapper()\n",
       "  (Conv_711): Conv2d(480, 80, kernel_size=(1, 1), stride=(1, 1))\n",
       "  (Add_483): Add()\n",
       "  (Conv_714): Conv2d(80, 480, kernel_size=(1, 1), stride=(1, 1))\n",
       "  (Sigmoid_486): Sigmoid()\n",
       "  (Mul_487): OperatorWrapper()\n",
       "  (Conv_717): Conv2d(480, 480, kernel_size=(3, 3), stride=(1, 1), padding=(1, 1), groups=480)\n",
       "  (Sigmoid_490): Sigmoid()\n",
       "  (Mul_491): OperatorWrapper()\n",
       "  (GlobalAveragePool_492): GlobalAveragePool()\n",
       "  (Conv_493): Conv2d(480, 20, kernel_size=(1, 1), stride=(1, 1))\n",
       "  (Sigmoid_494): Sigmoid()\n",
       "  (Mul_495): OperatorWrapper()\n",
       "  (Conv_496): Conv2d(20, 480, kernel_size=(1, 1), stride=(1, 1))\n",
       "  (Sigmoid_497): Sigmoid()\n",
       "  (Mul_498): OperatorWrapper()\n",
       "  (Conv_720): Conv2d(480, 80, kernel_size=(1, 1), stride=(1, 1))\n",
       "  (Add_501): Add()\n",
       "  (Conv_723): Conv2d(80, 480, kernel_size=(1, 1), stride=(1, 1))\n",
       "  (Sigmoid_504): Sigmoid()\n",
       "  (Mul_505): OperatorWrapper()\n",
       "  (Conv_726): Conv2d(480, 480, kernel_size=(5, 5), stride=(1, 1), padding=(2, 2), groups=480)\n",
       "  (Sigmoid_508): Sigmoid()\n",
       "  (Mul_509): OperatorWrapper()\n",
       "  (GlobalAveragePool_510): GlobalAveragePool()\n",
       "  (Conv_511): Conv2d(480, 20, kernel_size=(1, 1), stride=(1, 1))\n",
       "  (Sigmoid_512): Sigmoid()\n",
       "  (Mul_513): OperatorWrapper()\n",
       "  (Conv_514): Conv2d(20, 480, kernel_size=(1, 1), stride=(1, 1))\n",
       "  (Sigmoid_515): Sigmoid()\n",
       "  (Mul_516): OperatorWrapper()\n",
       "  (Conv_729): Conv2d(480, 112, kernel_size=(1, 1), stride=(1, 1))\n",
       "  (Conv_732): Conv2d(112, 672, kernel_size=(1, 1), stride=(1, 1))\n",
       "  (Sigmoid_521): Sigmoid()\n",
       "  (Mul_522): OperatorWrapper()\n",
       "  (Conv_735): Conv2d(672, 672, kernel_size=(5, 5), stride=(1, 1), padding=(2, 2), groups=672)\n",
       "  (Sigmoid_525): Sigmoid()\n",
       "  (Mul_526): OperatorWrapper()\n",
       "  (GlobalAveragePool_527): GlobalAveragePool()\n",
       "  (Conv_528): Conv2d(672, 28, kernel_size=(1, 1), stride=(1, 1))\n",
       "  (Sigmoid_529): Sigmoid()\n",
       "  (Mul_530): OperatorWrapper()\n",
       "  (Conv_531): Conv2d(28, 672, kernel_size=(1, 1), stride=(1, 1))\n",
       "  (Sigmoid_532): Sigmoid()\n",
       "  (Mul_533): OperatorWrapper()\n",
       "  (Conv_738): Conv2d(672, 112, kernel_size=(1, 1), stride=(1, 1))\n",
       "  (Add_536): Add()\n",
       "  (Conv_741): Conv2d(112, 672, kernel_size=(1, 1), stride=(1, 1))\n",
       "  (Sigmoid_539): Sigmoid()\n",
       "  (Mul_540): OperatorWrapper()\n",
       "  (Conv_744): Conv2d(672, 672, kernel_size=(5, 5), stride=(1, 1), padding=(2, 2), groups=672)\n",
       "  (Sigmoid_543): Sigmoid()\n",
       "  (Mul_544): OperatorWrapper()\n",
       "  (GlobalAveragePool_545): GlobalAveragePool()\n",
       "  (Conv_546): Conv2d(672, 28, kernel_size=(1, 1), stride=(1, 1))\n",
       "  (Sigmoid_547): Sigmoid()\n",
       "  (Mul_548): OperatorWrapper()\n",
       "  (Conv_549): Conv2d(28, 672, kernel_size=(1, 1), stride=(1, 1))\n",
       "  (Sigmoid_550): Sigmoid()\n",
       "  (Mul_551): OperatorWrapper()\n",
       "  (Conv_747): Conv2d(672, 112, kernel_size=(1, 1), stride=(1, 1))\n",
       "  (Add_554): Add()\n",
       "  (Conv_750): Conv2d(112, 672, kernel_size=(1, 1), stride=(1, 1))\n",
       "  (Sigmoid_557): Sigmoid()\n",
       "  (Mul_558): OperatorWrapper()\n",
       "  (Conv_753): Conv2d(672, 672, kernel_size=(5, 5), stride=(2, 2), padding=(2, 2), groups=672)\n",
       "  (Sigmoid_561): Sigmoid()\n",
       "  (Mul_562): OperatorWrapper()\n",
       "  (GlobalAveragePool_563): GlobalAveragePool()\n",
       "  (Conv_564): Conv2d(672, 28, kernel_size=(1, 1), stride=(1, 1))\n",
       "  (Sigmoid_565): Sigmoid()\n",
       "  (Mul_566): OperatorWrapper()\n",
       "  (Conv_567): Conv2d(28, 672, kernel_size=(1, 1), stride=(1, 1))\n",
       "  (Sigmoid_568): Sigmoid()\n",
       "  (Mul_569): OperatorWrapper()\n",
       "  (Conv_756): Conv2d(672, 192, kernel_size=(1, 1), stride=(1, 1))\n",
       "  (Conv_759): Conv2d(192, 1152, kernel_size=(1, 1), stride=(1, 1))\n",
       "  (Sigmoid_574): Sigmoid()\n",
       "  (Mul_575): OperatorWrapper()\n",
       "  (Conv_762): Conv2d(1152, 1152, kernel_size=(5, 5), stride=(1, 1), padding=(2, 2), groups=1152)\n",
       "  (Sigmoid_578): Sigmoid()\n",
       "  (Mul_579): OperatorWrapper()\n",
       "  (GlobalAveragePool_580): GlobalAveragePool()\n",
       "  (Conv_581): Conv2d(1152, 48, kernel_size=(1, 1), stride=(1, 1))\n",
       "  (Sigmoid_582): Sigmoid()\n",
       "  (Mul_583): OperatorWrapper()\n",
       "  (Conv_584): Conv2d(48, 1152, kernel_size=(1, 1), stride=(1, 1))\n",
       "  (Sigmoid_585): Sigmoid()\n",
       "  (Mul_586): OperatorWrapper()\n",
       "  (Conv_765): Conv2d(1152, 192, kernel_size=(1, 1), stride=(1, 1))\n",
       "  (Add_589): Add()\n",
       "  (Conv_768): Conv2d(192, 1152, kernel_size=(1, 1), stride=(1, 1))\n",
       "  (Sigmoid_592): Sigmoid()\n",
       "  (Mul_593): OperatorWrapper()\n",
       "  (Conv_771): Conv2d(1152, 1152, kernel_size=(5, 5), stride=(1, 1), padding=(2, 2), groups=1152)\n",
       "  (Sigmoid_596): Sigmoid()\n",
       "  (Mul_597): OperatorWrapper()\n",
       "  (GlobalAveragePool_598): GlobalAveragePool()\n",
       "  (Conv_599): Conv2d(1152, 48, kernel_size=(1, 1), stride=(1, 1))\n",
       "  (Sigmoid_600): Sigmoid()\n",
       "  (Mul_601): OperatorWrapper()\n",
       "  (Conv_602): Conv2d(48, 1152, kernel_size=(1, 1), stride=(1, 1))\n",
       "  (Sigmoid_603): Sigmoid()\n",
       "  (Mul_604): OperatorWrapper()\n",
       "  (Conv_774): Conv2d(1152, 192, kernel_size=(1, 1), stride=(1, 1))\n",
       "  (Add_607): Add()\n",
       "  (Conv_777): Conv2d(192, 1152, kernel_size=(1, 1), stride=(1, 1))\n",
       "  (Sigmoid_610): Sigmoid()\n",
       "  (Mul_611): OperatorWrapper()\n",
       "  (Conv_780): Conv2d(1152, 1152, kernel_size=(5, 5), stride=(1, 1), padding=(2, 2), groups=1152)\n",
       "  (Sigmoid_614): Sigmoid()\n",
       "  (Mul_615): OperatorWrapper()\n",
       "  (GlobalAveragePool_616): GlobalAveragePool()\n",
       "  (Conv_617): Conv2d(1152, 48, kernel_size=(1, 1), stride=(1, 1))\n",
       "  (Sigmoid_618): Sigmoid()\n",
       "  (Mul_619): OperatorWrapper()\n",
       "  (Conv_620): Conv2d(48, 1152, kernel_size=(1, 1), stride=(1, 1))\n",
       "  (Sigmoid_621): Sigmoid()\n",
       "  (Mul_622): OperatorWrapper()\n",
       "  (Conv_783): Conv2d(1152, 192, kernel_size=(1, 1), stride=(1, 1))\n",
       "  (Add_625): Add()\n",
       "  (Conv_786): Conv2d(192, 1152, kernel_size=(1, 1), stride=(1, 1))\n",
       "  (Sigmoid_628): Sigmoid()\n",
       "  (Mul_629): OperatorWrapper()\n",
       "  (Conv_789): Conv2d(1152, 1152, kernel_size=(3, 3), stride=(1, 1), padding=(1, 1), groups=1152)\n",
       "  (Sigmoid_632): Sigmoid()\n",
       "  (Mul_633): OperatorWrapper()\n",
       "  (GlobalAveragePool_634): GlobalAveragePool()\n",
       "  (Conv_635): Conv2d(1152, 48, kernel_size=(1, 1), stride=(1, 1))\n",
       "  (Sigmoid_636): Sigmoid()\n",
       "  (Mul_637): OperatorWrapper()\n",
       "  (Conv_638): Conv2d(48, 1152, kernel_size=(1, 1), stride=(1, 1))\n",
       "  (Sigmoid_639): Sigmoid()\n",
       "  (Mul_640): OperatorWrapper()\n",
       "  (Conv_792): Conv2d(1152, 320, kernel_size=(1, 1), stride=(1, 1))\n",
       "  (Conv_795): Conv2d(320, 1280, kernel_size=(1, 1), stride=(1, 1))\n",
       "  (Sigmoid_645): Sigmoid()\n",
       "  (Mul_646): OperatorWrapper()\n",
       "  (GlobalAveragePool_647): GlobalAveragePool()\n",
       "  (Flatten_648): Flatten()\n",
       "  (Gemm_649): Linear(in_features=1280, out_features=400, bias=True)\n",
       "  (Sigmoid_activations): Sigmoid()\n",
       "  (Identity_embeddings): Identity()\n",
       ")"
      ]
     },
     "execution_count": 5,
     "metadata": {},
     "output_type": "execute_result"
    }
   ],
   "source": [
    "model"
   ]
  },
  {
   "cell_type": "markdown",
   "metadata": {},
   "source": [
    "c:\\Users\\pafitis\\envs\\dev\\Lib\\site-packages\\onnx2pytorch\\convert\\layer.py:30: \n",
    "UserWarning: The given NumPy array is not writable, and PyTorch does not support non-writable tensors.\n",
    "This means writing to this tensor will result in undefined behavior. \n",
    "You may want to copy the array to protect its data or make it writable before converting it to a tensor.\n",
    "This type of warning will be suppressed for the rest of this program. \n",
    "(Triggered internally at C:\\actions-runner\\_work\\pytorch\\pytorch\\builder\\windows\\pytorch\\torch\\csrc\\utils\\tensor_numpy.cpp:212.)\n",
    "  layer.weight.data = torch.from_numpy(numpy_helper.to_array(weight))"
   ]
  },
  {
   "cell_type": "code",
   "execution_count": 19,
   "metadata": {},
   "outputs": [],
   "source": [
    "import discogs_client\n",
    "import yaml\n",
    "\n",
    "with open('configs/constants.yaml', 'r') as file:\n",
    "    keys = yaml.load(file, Loader=yaml.SafeLoader)\n",
    "with open('configs/run_config.yaml', 'r') as file:\n",
    "    run_config = yaml.load(file, Loader=yaml.SafeLoader)\n",
    "with open('configs/params_metadata.yaml', 'r') as file:\n",
    "    params = yaml.load(file, Loader=yaml.SafeLoader)\n",
    "with open('configs/yt_dlp.yaml', 'r') as file:\n",
    "    yt_params = yaml.load(file, Loader=yaml.SafeLoader)\n",
    "\n",
    "client = discogs_client.Client('digger/0.1', user_token=keys['DISCOGS_KEY'])"
   ]
  },
  {
   "cell_type": "code",
   "execution_count": 1,
   "metadata": {},
   "outputs": [],
   "source": [
    "from scipy import signal\n",
    "import numpy as np\n",
    "import librosa\n",
    "import torch\n",
    "import torchaudio"
   ]
  },
  {
   "cell_type": "code",
   "execution_count": 2,
   "metadata": {},
   "outputs": [],
   "source": [
    "pipeline = torchaudio.pipelines.HUBERT_BASE\n",
    "model = pipeline.get_model()"
   ]
  },
  {
   "cell_type": "code",
   "execution_count": 7,
   "metadata": {},
   "outputs": [],
   "source": [
    "wave, sr = torchaudio.load('temp/Befog - Fractus [fK7FXVqcmQU].wav')\n",
    "waveform = torchaudio.functional.resample(wave, sr, pipeline.sample_rate)\n",
    "\n",
    "# Extract acoustic features\n",
    "# features, _ = model.extract_features(waveform)"
   ]
  },
  {
   "cell_type": "code",
   "execution_count": 9,
   "metadata": {},
   "outputs": [
    {
     "ename": "",
     "evalue": "",
     "output_type": "error",
     "traceback": [
      "\u001b[1;31mThe Kernel crashed while executing code in the current cell or a previous cell. \n",
      "\u001b[1;31mPlease review the code in the cell(s) to identify a possible cause of the failure. \n",
      "\u001b[1;31mClick <a href='https://aka.ms/vscodeJupyterKernelCrash'>here</a> for more info. \n",
      "\u001b[1;31mView Jupyter <a href='command:jupyter.viewOutput'>log</a> for further details."
     ]
    }
   ],
   "source": [
    "features, _ = model.extract_features(waveform)"
   ]
  },
  {
   "cell_type": "code",
   "execution_count": null,
   "metadata": {},
   "outputs": [],
   "source": []
  },
  {
   "cell_type": "code",
   "execution_count": 7,
   "metadata": {},
   "outputs": [],
   "source": [
    "import matplotlib.pyplot as plt\n",
    "\n",
    "def plot_waveform(waveform, sample_rate):\n",
    "    waveform = waveform.numpy()\n",
    "\n",
    "    num_channels, num_frames = waveform.shape\n",
    "    time_axis = torch.arange(0, num_frames) / sample_rate\n",
    "\n",
    "    figure, axes = plt.subplots(num_channels, 1)\n",
    "    if num_channels == 1:\n",
    "        axes = [axes]\n",
    "    for c in range(num_channels):\n",
    "        axes[c].plot(time_axis, waveform[c], linewidth=1)\n",
    "        axes[c].grid(True)\n",
    "        if num_channels > 1:\n",
    "            axes[c].set_ylabel(f\"Channel {c+1}\")\n",
    "    figure.suptitle(\"waveform\")"
   ]
  },
  {
   "cell_type": "code",
   "execution_count": 8,
   "metadata": {},
   "outputs": [
    {
     "data": {
      "image/png": "[encoded data removed]",
      "text/plain": [
       "<Figure size 640x480 with 2 Axes>"
      ]
     },
     "metadata": {},
     "output_type": "display_data"
    }
   ],
   "source": [
    "plot_waveform(wave, sr)"
   ]
  },
  {
   "cell_type": "code",
   "execution_count": null,
   "metadata": {},
   "outputs": [],
   "source": []
  }
 ],
 "metadata": {
  "kernelspec": {
   "display_name": "dev",
   "language": "python",
   "name": "python3"
  },
  "language_info": {
   "codemirror_mode": {
    "name": "ipython",
    "version": 3
   },
   "file_extension": ".py",
   "mimetype": "text/x-python",
   "name": "python",
   "nbconvert_exporter": "python",
   "pygments_lexer": "ipython3",
   "version": "3.12.7"
  }
 },
 "nbformat": 4,
 "nbformat_minor": 2
}
